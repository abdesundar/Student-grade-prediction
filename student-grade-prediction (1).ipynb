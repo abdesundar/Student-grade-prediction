{
 "cells": [
  {
   "cell_type": "markdown",
   "id": "fb099e2b",
   "metadata": {
    "id": "TdUmFgbIWNPL",
    "papermill": {
     "duration": 0.040066,
     "end_time": "2021-09-03T06:09:44.955403",
     "exception": false,
     "start_time": "2021-09-03T06:09:44.915337",
     "status": "completed"
    },
    "tags": []
   },
   "source": [
    "**Student Grades Prediction**\n"
   ]
  },
  {
   "cell_type": "code",
   "execution_count": 1,
   "id": "81e92b98",
   "metadata": {
    "execution": {
     "iopub.execute_input": "2021-09-03T06:09:45.042203Z",
     "iopub.status.busy": "2021-09-03T06:09:45.040987Z",
     "iopub.status.idle": "2021-09-03T06:09:46.088882Z",
     "shell.execute_reply": "2021-09-03T06:09:46.089718Z",
     "shell.execute_reply.started": "2021-09-03T06:07:10.555656Z"
    },
    "id": "11S1nEpfVv94",
    "papermill": {
     "duration": 1.094158,
     "end_time": "2021-09-03T06:09:46.090131",
     "exception": false,
     "start_time": "2021-09-03T06:09:44.995973",
     "status": "completed"
    },
    "tags": []
   },
   "outputs": [],
   "source": [
    "#import the libraries\n",
    "import pandas as pd\n",
    "import numpy as np\n",
    "import matplotlib.pyplot as plt\n",
    "import seaborn as sns"
   ]
  },
  {
   "cell_type": "code",
   "execution_count": 2,
   "id": "813aa2fc",
   "metadata": {
    "execution": {
     "iopub.execute_input": "2021-09-03T06:09:46.181104Z",
     "iopub.status.busy": "2021-09-03T06:09:46.180116Z",
     "iopub.status.idle": "2021-09-03T06:09:46.210752Z",
     "shell.execute_reply": "2021-09-03T06:09:46.209872Z",
     "shell.execute_reply.started": "2021-09-03T06:07:11.547300Z"
    },
    "id": "WrnT0j9UWa4Y",
    "papermill": {
     "duration": 0.074466,
     "end_time": "2021-09-03T06:09:46.210934",
     "exception": false,
     "start_time": "2021-09-03T06:09:46.136468",
     "status": "completed"
    },
    "tags": []
   },
   "outputs": [],
   "source": [
    "data=pd.read_csv('student-mat.csv')"
   ]
  },
  {
   "cell_type": "code",
   "execution_count": 3,
   "id": "3c66b8f2",
   "metadata": {
    "execution": {
     "iopub.execute_input": "2021-09-03T06:09:46.344637Z",
     "iopub.status.busy": "2021-09-03T06:09:46.343832Z",
     "iopub.status.idle": "2021-09-03T06:09:46.371440Z",
     "shell.execute_reply": "2021-09-03T06:09:46.371927Z",
     "shell.execute_reply.started": "2021-09-03T06:07:11.574193Z"
    },
    "id": "nG5jRoQTWhBb",
    "outputId": "40b84156-7d3a-48e9-cb48-923427300c0c",
    "papermill": {
     "duration": 0.099854,
     "end_time": "2021-09-03T06:09:46.372098",
     "exception": false,
     "start_time": "2021-09-03T06:09:46.272244",
     "status": "completed"
    },
    "tags": []
   },
   "outputs": [
    {
     "data": {
      "text/html": [
       "<div>\n",
       "<style scoped>\n",
       "    .dataframe tbody tr th:only-of-type {\n",
       "        vertical-align: middle;\n",
       "    }\n",
       "\n",
       "    .dataframe tbody tr th {\n",
       "        vertical-align: top;\n",
       "    }\n",
       "\n",
       "    .dataframe thead th {\n",
       "        text-align: right;\n",
       "    }\n",
       "</style>\n",
       "<table border=\"1\" class=\"dataframe\">\n",
       "  <thead>\n",
       "    <tr style=\"text-align: right;\">\n",
       "      <th></th>\n",
       "      <th>school</th>\n",
       "      <th>sex</th>\n",
       "      <th>age</th>\n",
       "      <th>address</th>\n",
       "      <th>famsize</th>\n",
       "      <th>Pstatus</th>\n",
       "      <th>Medu</th>\n",
       "      <th>Fedu</th>\n",
       "      <th>Mjob</th>\n",
       "      <th>Fjob</th>\n",
       "      <th>...</th>\n",
       "      <th>famrel</th>\n",
       "      <th>freetime</th>\n",
       "      <th>goout</th>\n",
       "      <th>Dalc</th>\n",
       "      <th>Walc</th>\n",
       "      <th>health</th>\n",
       "      <th>absences</th>\n",
       "      <th>G1</th>\n",
       "      <th>G2</th>\n",
       "      <th>G3</th>\n",
       "    </tr>\n",
       "  </thead>\n",
       "  <tbody>\n",
       "    <tr>\n",
       "      <th>0</th>\n",
       "      <td>GP</td>\n",
       "      <td>F</td>\n",
       "      <td>18</td>\n",
       "      <td>U</td>\n",
       "      <td>GT3</td>\n",
       "      <td>A</td>\n",
       "      <td>4</td>\n",
       "      <td>4</td>\n",
       "      <td>at_home</td>\n",
       "      <td>teacher</td>\n",
       "      <td>...</td>\n",
       "      <td>4</td>\n",
       "      <td>3</td>\n",
       "      <td>4</td>\n",
       "      <td>1</td>\n",
       "      <td>1</td>\n",
       "      <td>3</td>\n",
       "      <td>6</td>\n",
       "      <td>5</td>\n",
       "      <td>6</td>\n",
       "      <td>6</td>\n",
       "    </tr>\n",
       "    <tr>\n",
       "      <th>1</th>\n",
       "      <td>GP</td>\n",
       "      <td>F</td>\n",
       "      <td>17</td>\n",
       "      <td>U</td>\n",
       "      <td>GT3</td>\n",
       "      <td>T</td>\n",
       "      <td>1</td>\n",
       "      <td>1</td>\n",
       "      <td>at_home</td>\n",
       "      <td>other</td>\n",
       "      <td>...</td>\n",
       "      <td>5</td>\n",
       "      <td>3</td>\n",
       "      <td>3</td>\n",
       "      <td>1</td>\n",
       "      <td>1</td>\n",
       "      <td>3</td>\n",
       "      <td>4</td>\n",
       "      <td>5</td>\n",
       "      <td>5</td>\n",
       "      <td>6</td>\n",
       "    </tr>\n",
       "    <tr>\n",
       "      <th>2</th>\n",
       "      <td>GP</td>\n",
       "      <td>F</td>\n",
       "      <td>15</td>\n",
       "      <td>U</td>\n",
       "      <td>LE3</td>\n",
       "      <td>T</td>\n",
       "      <td>1</td>\n",
       "      <td>1</td>\n",
       "      <td>at_home</td>\n",
       "      <td>other</td>\n",
       "      <td>...</td>\n",
       "      <td>4</td>\n",
       "      <td>3</td>\n",
       "      <td>2</td>\n",
       "      <td>2</td>\n",
       "      <td>3</td>\n",
       "      <td>3</td>\n",
       "      <td>10</td>\n",
       "      <td>7</td>\n",
       "      <td>8</td>\n",
       "      <td>10</td>\n",
       "    </tr>\n",
       "    <tr>\n",
       "      <th>3</th>\n",
       "      <td>GP</td>\n",
       "      <td>F</td>\n",
       "      <td>15</td>\n",
       "      <td>U</td>\n",
       "      <td>GT3</td>\n",
       "      <td>T</td>\n",
       "      <td>4</td>\n",
       "      <td>2</td>\n",
       "      <td>health</td>\n",
       "      <td>services</td>\n",
       "      <td>...</td>\n",
       "      <td>3</td>\n",
       "      <td>2</td>\n",
       "      <td>2</td>\n",
       "      <td>1</td>\n",
       "      <td>1</td>\n",
       "      <td>5</td>\n",
       "      <td>2</td>\n",
       "      <td>15</td>\n",
       "      <td>14</td>\n",
       "      <td>15</td>\n",
       "    </tr>\n",
       "    <tr>\n",
       "      <th>4</th>\n",
       "      <td>GP</td>\n",
       "      <td>F</td>\n",
       "      <td>16</td>\n",
       "      <td>U</td>\n",
       "      <td>GT3</td>\n",
       "      <td>T</td>\n",
       "      <td>3</td>\n",
       "      <td>3</td>\n",
       "      <td>other</td>\n",
       "      <td>other</td>\n",
       "      <td>...</td>\n",
       "      <td>4</td>\n",
       "      <td>3</td>\n",
       "      <td>2</td>\n",
       "      <td>1</td>\n",
       "      <td>2</td>\n",
       "      <td>5</td>\n",
       "      <td>4</td>\n",
       "      <td>6</td>\n",
       "      <td>10</td>\n",
       "      <td>10</td>\n",
       "    </tr>\n",
       "  </tbody>\n",
       "</table>\n",
       "<p>5 rows × 33 columns</p>\n",
       "</div>"
      ],
      "text/plain": [
       "  school sex  age address famsize Pstatus  Medu  Fedu     Mjob      Fjob  ...  \\\n",
       "0     GP   F   18       U     GT3       A     4     4  at_home   teacher  ...   \n",
       "1     GP   F   17       U     GT3       T     1     1  at_home     other  ...   \n",
       "2     GP   F   15       U     LE3       T     1     1  at_home     other  ...   \n",
       "3     GP   F   15       U     GT3       T     4     2   health  services  ...   \n",
       "4     GP   F   16       U     GT3       T     3     3    other     other  ...   \n",
       "\n",
       "  famrel freetime  goout  Dalc  Walc health absences  G1  G2  G3  \n",
       "0      4        3      4     1     1      3        6   5   6   6  \n",
       "1      5        3      3     1     1      3        4   5   5   6  \n",
       "2      4        3      2     2     3      3       10   7   8  10  \n",
       "3      3        2      2     1     1      5        2  15  14  15  \n",
       "4      4        3      2     1     2      5        4   6  10  10  \n",
       "\n",
       "[5 rows x 33 columns]"
      ]
     },
     "execution_count": 3,
     "metadata": {},
     "output_type": "execute_result"
    }
   ],
   "source": [
    "data.head()"
   ]
  },
  {
   "cell_type": "code",
   "execution_count": 4,
   "id": "b792067c",
   "metadata": {
    "execution": {
     "iopub.execute_input": "2021-09-03T06:09:46.460788Z",
     "iopub.status.busy": "2021-09-03T06:09:46.459807Z",
     "iopub.status.idle": "2021-09-03T06:09:46.466514Z",
     "shell.execute_reply": "2021-09-03T06:09:46.465981Z",
     "shell.execute_reply.started": "2021-09-03T06:07:11.617275Z"
    },
    "id": "tNGB7F6BWkN6",
    "outputId": "03669608-9622-422f-e3d4-4daa60438099",
    "papermill": {
     "duration": 0.053331,
     "end_time": "2021-09-03T06:09:46.466647",
     "exception": false,
     "start_time": "2021-09-03T06:09:46.413316",
     "status": "completed"
    },
    "tags": []
   },
   "outputs": [
    {
     "data": {
      "text/plain": [
       "(395, 33)"
      ]
     },
     "execution_count": 4,
     "metadata": {},
     "output_type": "execute_result"
    }
   ],
   "source": [
    "data.shape"
   ]
  },
  {
   "cell_type": "code",
   "execution_count": 5,
   "id": "3fa4c99f",
   "metadata": {
    "execution": {
     "iopub.execute_input": "2021-09-03T06:09:46.572534Z",
     "iopub.status.busy": "2021-09-03T06:09:46.571893Z",
     "iopub.status.idle": "2021-09-03T06:09:46.574675Z",
     "shell.execute_reply": "2021-09-03T06:09:46.575218Z",
     "shell.execute_reply.started": "2021-09-03T06:07:11.626926Z"
    },
    "id": "G3DeoxedXYVM",
    "outputId": "217b3312-2ec3-4639-a30a-e411b55e10c2",
    "papermill": {
     "duration": 0.067335,
     "end_time": "2021-09-03T06:09:46.575392",
     "exception": false,
     "start_time": "2021-09-03T06:09:46.508057",
     "status": "completed"
    },
    "tags": []
   },
   "outputs": [
    {
     "name": "stdout",
     "output_type": "stream",
     "text": [
      "<class 'pandas.core.frame.DataFrame'>\n",
      "RangeIndex: 395 entries, 0 to 394\n",
      "Data columns (total 33 columns):\n",
      " #   Column      Non-Null Count  Dtype \n",
      "---  ------      --------------  ----- \n",
      " 0   school      395 non-null    object\n",
      " 1   sex         395 non-null    object\n",
      " 2   age         395 non-null    int64 \n",
      " 3   address     395 non-null    object\n",
      " 4   famsize     395 non-null    object\n",
      " 5   Pstatus     395 non-null    object\n",
      " 6   Medu        395 non-null    int64 \n",
      " 7   Fedu        395 non-null    int64 \n",
      " 8   Mjob        395 non-null    object\n",
      " 9   Fjob        395 non-null    object\n",
      " 10  reason      395 non-null    object\n",
      " 11  guardian    395 non-null    object\n",
      " 12  traveltime  395 non-null    int64 \n",
      " 13  studytime   395 non-null    int64 \n",
      " 14  failures    395 non-null    int64 \n",
      " 15  schoolsup   395 non-null    object\n",
      " 16  famsup      395 non-null    object\n",
      " 17  paid        395 non-null    object\n",
      " 18  activities  395 non-null    object\n",
      " 19  nursery     395 non-null    object\n",
      " 20  higher      395 non-null    object\n",
      " 21  internet    395 non-null    object\n",
      " 22  romantic    395 non-null    object\n",
      " 23  famrel      395 non-null    int64 \n",
      " 24  freetime    395 non-null    int64 \n",
      " 25  goout       395 non-null    int64 \n",
      " 26  Dalc        395 non-null    int64 \n",
      " 27  Walc        395 non-null    int64 \n",
      " 28  health      395 non-null    int64 \n",
      " 29  absences    395 non-null    int64 \n",
      " 30  G1          395 non-null    int64 \n",
      " 31  G2          395 non-null    int64 \n",
      " 32  G3          395 non-null    int64 \n",
      "dtypes: int64(16), object(17)\n",
      "memory usage: 102.0+ KB\n"
     ]
    }
   ],
   "source": [
    "data.info()"
   ]
  },
  {
   "cell_type": "code",
   "execution_count": 6,
   "id": "b5425c86",
   "metadata": {
    "execution": {
     "iopub.execute_input": "2021-09-03T06:09:46.662149Z",
     "iopub.status.busy": "2021-09-03T06:09:46.661483Z",
     "iopub.status.idle": "2021-09-03T06:09:46.719181Z",
     "shell.execute_reply": "2021-09-03T06:09:46.719659Z",
     "shell.execute_reply.started": "2021-09-03T06:07:11.657174Z"
    },
    "id": "v2vYhDrcXifE",
    "outputId": "6e05eab7-5bdb-4df9-9eaf-093402694020",
    "papermill": {
     "duration": 0.102636,
     "end_time": "2021-09-03T06:09:46.719863",
     "exception": false,
     "start_time": "2021-09-03T06:09:46.617227",
     "status": "completed"
    },
    "tags": []
   },
   "outputs": [
    {
     "data": {
      "text/html": [
       "<div>\n",
       "<style scoped>\n",
       "    .dataframe tbody tr th:only-of-type {\n",
       "        vertical-align: middle;\n",
       "    }\n",
       "\n",
       "    .dataframe tbody tr th {\n",
       "        vertical-align: top;\n",
       "    }\n",
       "\n",
       "    .dataframe thead th {\n",
       "        text-align: right;\n",
       "    }\n",
       "</style>\n",
       "<table border=\"1\" class=\"dataframe\">\n",
       "  <thead>\n",
       "    <tr style=\"text-align: right;\">\n",
       "      <th></th>\n",
       "      <th>age</th>\n",
       "      <th>Medu</th>\n",
       "      <th>Fedu</th>\n",
       "      <th>traveltime</th>\n",
       "      <th>studytime</th>\n",
       "      <th>failures</th>\n",
       "      <th>famrel</th>\n",
       "      <th>freetime</th>\n",
       "      <th>goout</th>\n",
       "      <th>Dalc</th>\n",
       "      <th>Walc</th>\n",
       "      <th>health</th>\n",
       "      <th>absences</th>\n",
       "      <th>G1</th>\n",
       "      <th>G2</th>\n",
       "      <th>G3</th>\n",
       "    </tr>\n",
       "  </thead>\n",
       "  <tbody>\n",
       "    <tr>\n",
       "      <th>count</th>\n",
       "      <td>395.000000</td>\n",
       "      <td>395.000000</td>\n",
       "      <td>395.000000</td>\n",
       "      <td>395.000000</td>\n",
       "      <td>395.000000</td>\n",
       "      <td>395.000000</td>\n",
       "      <td>395.000000</td>\n",
       "      <td>395.000000</td>\n",
       "      <td>395.000000</td>\n",
       "      <td>395.000000</td>\n",
       "      <td>395.000000</td>\n",
       "      <td>395.000000</td>\n",
       "      <td>395.000000</td>\n",
       "      <td>395.000000</td>\n",
       "      <td>395.000000</td>\n",
       "      <td>395.000000</td>\n",
       "    </tr>\n",
       "    <tr>\n",
       "      <th>mean</th>\n",
       "      <td>16.696203</td>\n",
       "      <td>2.749367</td>\n",
       "      <td>2.521519</td>\n",
       "      <td>1.448101</td>\n",
       "      <td>2.035443</td>\n",
       "      <td>0.334177</td>\n",
       "      <td>3.944304</td>\n",
       "      <td>3.235443</td>\n",
       "      <td>3.108861</td>\n",
       "      <td>1.481013</td>\n",
       "      <td>2.291139</td>\n",
       "      <td>3.554430</td>\n",
       "      <td>5.708861</td>\n",
       "      <td>10.908861</td>\n",
       "      <td>10.713924</td>\n",
       "      <td>10.415190</td>\n",
       "    </tr>\n",
       "    <tr>\n",
       "      <th>std</th>\n",
       "      <td>1.276043</td>\n",
       "      <td>1.094735</td>\n",
       "      <td>1.088201</td>\n",
       "      <td>0.697505</td>\n",
       "      <td>0.839240</td>\n",
       "      <td>0.743651</td>\n",
       "      <td>0.896659</td>\n",
       "      <td>0.998862</td>\n",
       "      <td>1.113278</td>\n",
       "      <td>0.890741</td>\n",
       "      <td>1.287897</td>\n",
       "      <td>1.390303</td>\n",
       "      <td>8.003096</td>\n",
       "      <td>3.319195</td>\n",
       "      <td>3.761505</td>\n",
       "      <td>4.581443</td>\n",
       "    </tr>\n",
       "    <tr>\n",
       "      <th>min</th>\n",
       "      <td>15.000000</td>\n",
       "      <td>0.000000</td>\n",
       "      <td>0.000000</td>\n",
       "      <td>1.000000</td>\n",
       "      <td>1.000000</td>\n",
       "      <td>0.000000</td>\n",
       "      <td>1.000000</td>\n",
       "      <td>1.000000</td>\n",
       "      <td>1.000000</td>\n",
       "      <td>1.000000</td>\n",
       "      <td>1.000000</td>\n",
       "      <td>1.000000</td>\n",
       "      <td>0.000000</td>\n",
       "      <td>3.000000</td>\n",
       "      <td>0.000000</td>\n",
       "      <td>0.000000</td>\n",
       "    </tr>\n",
       "    <tr>\n",
       "      <th>25%</th>\n",
       "      <td>16.000000</td>\n",
       "      <td>2.000000</td>\n",
       "      <td>2.000000</td>\n",
       "      <td>1.000000</td>\n",
       "      <td>1.000000</td>\n",
       "      <td>0.000000</td>\n",
       "      <td>4.000000</td>\n",
       "      <td>3.000000</td>\n",
       "      <td>2.000000</td>\n",
       "      <td>1.000000</td>\n",
       "      <td>1.000000</td>\n",
       "      <td>3.000000</td>\n",
       "      <td>0.000000</td>\n",
       "      <td>8.000000</td>\n",
       "      <td>9.000000</td>\n",
       "      <td>8.000000</td>\n",
       "    </tr>\n",
       "    <tr>\n",
       "      <th>50%</th>\n",
       "      <td>17.000000</td>\n",
       "      <td>3.000000</td>\n",
       "      <td>2.000000</td>\n",
       "      <td>1.000000</td>\n",
       "      <td>2.000000</td>\n",
       "      <td>0.000000</td>\n",
       "      <td>4.000000</td>\n",
       "      <td>3.000000</td>\n",
       "      <td>3.000000</td>\n",
       "      <td>1.000000</td>\n",
       "      <td>2.000000</td>\n",
       "      <td>4.000000</td>\n",
       "      <td>4.000000</td>\n",
       "      <td>11.000000</td>\n",
       "      <td>11.000000</td>\n",
       "      <td>11.000000</td>\n",
       "    </tr>\n",
       "    <tr>\n",
       "      <th>75%</th>\n",
       "      <td>18.000000</td>\n",
       "      <td>4.000000</td>\n",
       "      <td>3.000000</td>\n",
       "      <td>2.000000</td>\n",
       "      <td>2.000000</td>\n",
       "      <td>0.000000</td>\n",
       "      <td>5.000000</td>\n",
       "      <td>4.000000</td>\n",
       "      <td>4.000000</td>\n",
       "      <td>2.000000</td>\n",
       "      <td>3.000000</td>\n",
       "      <td>5.000000</td>\n",
       "      <td>8.000000</td>\n",
       "      <td>13.000000</td>\n",
       "      <td>13.000000</td>\n",
       "      <td>14.000000</td>\n",
       "    </tr>\n",
       "    <tr>\n",
       "      <th>max</th>\n",
       "      <td>22.000000</td>\n",
       "      <td>4.000000</td>\n",
       "      <td>4.000000</td>\n",
       "      <td>4.000000</td>\n",
       "      <td>4.000000</td>\n",
       "      <td>3.000000</td>\n",
       "      <td>5.000000</td>\n",
       "      <td>5.000000</td>\n",
       "      <td>5.000000</td>\n",
       "      <td>5.000000</td>\n",
       "      <td>5.000000</td>\n",
       "      <td>5.000000</td>\n",
       "      <td>75.000000</td>\n",
       "      <td>19.000000</td>\n",
       "      <td>19.000000</td>\n",
       "      <td>20.000000</td>\n",
       "    </tr>\n",
       "  </tbody>\n",
       "</table>\n",
       "</div>"
      ],
      "text/plain": [
       "              age        Medu        Fedu  traveltime   studytime    failures  \\\n",
       "count  395.000000  395.000000  395.000000  395.000000  395.000000  395.000000   \n",
       "mean    16.696203    2.749367    2.521519    1.448101    2.035443    0.334177   \n",
       "std      1.276043    1.094735    1.088201    0.697505    0.839240    0.743651   \n",
       "min     15.000000    0.000000    0.000000    1.000000    1.000000    0.000000   \n",
       "25%     16.000000    2.000000    2.000000    1.000000    1.000000    0.000000   \n",
       "50%     17.000000    3.000000    2.000000    1.000000    2.000000    0.000000   \n",
       "75%     18.000000    4.000000    3.000000    2.000000    2.000000    0.000000   \n",
       "max     22.000000    4.000000    4.000000    4.000000    4.000000    3.000000   \n",
       "\n",
       "           famrel    freetime       goout        Dalc        Walc      health  \\\n",
       "count  395.000000  395.000000  395.000000  395.000000  395.000000  395.000000   \n",
       "mean     3.944304    3.235443    3.108861    1.481013    2.291139    3.554430   \n",
       "std      0.896659    0.998862    1.113278    0.890741    1.287897    1.390303   \n",
       "min      1.000000    1.000000    1.000000    1.000000    1.000000    1.000000   \n",
       "25%      4.000000    3.000000    2.000000    1.000000    1.000000    3.000000   \n",
       "50%      4.000000    3.000000    3.000000    1.000000    2.000000    4.000000   \n",
       "75%      5.000000    4.000000    4.000000    2.000000    3.000000    5.000000   \n",
       "max      5.000000    5.000000    5.000000    5.000000    5.000000    5.000000   \n",
       "\n",
       "         absences          G1          G2          G3  \n",
       "count  395.000000  395.000000  395.000000  395.000000  \n",
       "mean     5.708861   10.908861   10.713924   10.415190  \n",
       "std      8.003096    3.319195    3.761505    4.581443  \n",
       "min      0.000000    3.000000    0.000000    0.000000  \n",
       "25%      0.000000    8.000000    9.000000    8.000000  \n",
       "50%      4.000000   11.000000   11.000000   11.000000  \n",
       "75%      8.000000   13.000000   13.000000   14.000000  \n",
       "max     75.000000   19.000000   19.000000   20.000000  "
      ]
     },
     "execution_count": 6,
     "metadata": {},
     "output_type": "execute_result"
    }
   ],
   "source": [
    "data.describe()"
   ]
  },
  {
   "cell_type": "code",
   "execution_count": 7,
   "id": "516bdbaf",
   "metadata": {
    "execution": {
     "iopub.execute_input": "2021-09-03T06:09:46.811304Z",
     "iopub.status.busy": "2021-09-03T06:09:46.810275Z",
     "iopub.status.idle": "2021-09-03T06:09:47.337290Z",
     "shell.execute_reply": "2021-09-03T06:09:47.337836Z",
     "shell.execute_reply.started": "2021-09-03T06:07:11.720060Z"
    },
    "id": "QRRCrWc7Xo7m",
    "outputId": "05687cad-f60b-4891-a274-150c7c80592d",
    "papermill": {
     "duration": 0.575105,
     "end_time": "2021-09-03T06:09:47.338079",
     "exception": false,
     "start_time": "2021-09-03T06:09:46.762974",
     "status": "completed"
    },
    "tags": []
   },
   "outputs": [
    {
     "data": {
      "text/plain": [
       "<AxesSubplot:>"
      ]
     },
     "execution_count": 7,
     "metadata": {},
     "output_type": "execute_result"
    },
    {
     "data": {
      "image/png": "[encoded data removed]",
      "text/plain": [
       "<Figure size 432x288 with 2 Axes>"
      ]
     },
     "metadata": {
      "needs_background": "light"
     },
     "output_type": "display_data"
    }
   ],
   "source": [
    "#let us check if there is any nan values present\n",
    "sns.heatmap(data.isnull())"
   ]
  },
  {
   "cell_type": "markdown",
   "id": "4bbb1315",
   "metadata": {
    "id": "0EdApKBRX3yl",
    "papermill": {
     "duration": 0.043439,
     "end_time": "2021-09-03T06:09:47.425547",
     "exception": false,
     "start_time": "2021-09-03T06:09:47.382108",
     "status": "completed"
    },
    "tags": []
   },
   "source": [
    "There is no nan values present in our dataset."
   ]
  },
  {
   "cell_type": "markdown",
   "id": "6087605c",
   "metadata": {
    "id": "zR14zPugK_xz",
    "papermill": {
     "duration": 0.044392,
     "end_time": "2021-09-03T06:09:47.514769",
     "exception": false,
     "start_time": "2021-09-03T06:09:47.470377",
     "status": "completed"
    },
    "tags": []
   },
   "source": [
    "Let us do some Exploratory data Analysis and find how dependent and independent features are related to each other."
   ]
  },
  {
   "cell_type": "code",
   "execution_count": 8,
   "id": "d9c41fec",
   "metadata": {
    "execution": {
     "iopub.execute_input": "2021-09-03T06:09:47.607187Z",
     "iopub.status.busy": "2021-09-03T06:09:47.606131Z",
     "iopub.status.idle": "2021-09-03T06:09:47.805944Z",
     "shell.execute_reply": "2021-09-03T06:09:47.805410Z",
     "shell.execute_reply.started": "2021-09-03T06:07:12.280911Z"
    },
    "id": "71ugDSWTX2cy",
    "outputId": "cc9f6cfc-4c90-4e87-fed8-e9ea100f54cc",
    "papermill": {
     "duration": 0.247983,
     "end_time": "2021-09-03T06:09:47.806081",
     "exception": false,
     "start_time": "2021-09-03T06:09:47.558098",
     "status": "completed"
    },
    "tags": []
   },
   "outputs": [
    {
     "name": "stderr",
     "output_type": "stream",
     "text": [
      "C:\\Users\\abdes\\anaconda3\\lib\\site-packages\\seaborn\\_decorators.py:36: FutureWarning: Pass the following variables as keyword args: x, y. From version 0.12, the only valid positional argument will be `data`, and passing other arguments without an explicit keyword will result in an error or misinterpretation.\n",
      "  warnings.warn(\n"
     ]
    },
    {
     "data": {
      "text/plain": [
       "<AxesSubplot:xlabel='sex', ylabel='G3'>"
      ]
     },
     "execution_count": 8,
     "metadata": {},
     "output_type": "execute_result"
    },
    {
     "data": {
      "image/png": "[encoded data removed]",
      "text/plain": [
       "<Figure size 432x288 with 1 Axes>"
      ]
     },
     "metadata": {
      "needs_background": "light"
     },
     "output_type": "display_data"
    }
   ],
   "source": [
    "sns.barplot(data['sex'],data['G3'])"
   ]
  },
  {
   "cell_type": "markdown",
   "id": "bd5390ff",
   "metadata": {
    "id": "59RGRa1sLKAl",
    "papermill": {
     "duration": 0.04432,
     "end_time": "2021-09-03T06:09:47.895131",
     "exception": false,
     "start_time": "2021-09-03T06:09:47.850811",
     "status": "completed"
    },
    "tags": []
   },
   "source": [
    "We could see that male has performed well than female."
   ]
  },
  {
   "cell_type": "code",
   "execution_count": 9,
   "id": "76b1d437",
   "metadata": {
    "execution": {
     "iopub.execute_input": "2021-09-03T06:09:48.024974Z",
     "iopub.status.busy": "2021-09-03T06:09:48.021697Z",
     "iopub.status.idle": "2021-09-03T06:09:48.680426Z",
     "shell.execute_reply": "2021-09-03T06:09:48.680904Z",
     "shell.execute_reply.started": "2021-09-03T06:07:12.481318Z"
    },
    "id": "coSabaMgLoCG",
    "outputId": "ddbe032f-8904-4d8c-8c54-9772f5c86664",
    "papermill": {
     "duration": 0.741482,
     "end_time": "2021-09-03T06:09:48.681083",
     "exception": false,
     "start_time": "2021-09-03T06:09:47.939601",
     "status": "completed"
    },
    "tags": []
   },
   "outputs": [
    {
     "name": "stderr",
     "output_type": "stream",
     "text": [
      "C:\\Users\\abdes\\anaconda3\\lib\\site-packages\\seaborn\\_decorators.py:36: FutureWarning: Pass the following variables as keyword args: x, y. From version 0.12, the only valid positional argument will be `data`, and passing other arguments without an explicit keyword will result in an error or misinterpretation.\n",
      "  warnings.warn(\n"
     ]
    },
    {
     "data": {
      "text/plain": [
       "<AxesSubplot:xlabel='G3', ylabel='absences'>"
      ]
     },
     "execution_count": 9,
     "metadata": {},
     "output_type": "execute_result"
    },
    {
     "data": {
      "image/png": "[encoded data removed]",
      "text/plain": [
       "<Figure size 432x288 with 1 Axes>"
      ]
     },
     "metadata": {
      "needs_background": "light"
     },
     "output_type": "display_data"
    }
   ],
   "source": [
    "sns.lineplot(data['G3'],data['absences'])"
   ]
  },
  {
   "cell_type": "markdown",
   "id": "67efbd4d",
   "metadata": {
    "id": "Iqiv4lZzNL0x",
    "papermill": {
     "duration": 0.04706,
     "end_time": "2021-09-03T06:09:48.774720",
     "exception": false,
     "start_time": "2021-09-03T06:09:48.727660",
     "status": "completed"
    },
    "tags": []
   },
   "source": [
    "We could observe that as absences decreases, the Grade mark increases.So the students who are absent for most of the classes will get their grade low."
   ]
  },
  {
   "cell_type": "code",
   "execution_count": 10,
   "id": "de7fdd26",
   "metadata": {
    "execution": {
     "iopub.execute_input": "2021-09-03T06:09:48.870889Z",
     "iopub.status.busy": "2021-09-03T06:09:48.870271Z",
     "iopub.status.idle": "2021-09-03T06:09:49.260059Z",
     "shell.execute_reply": "2021-09-03T06:09:49.260535Z",
     "shell.execute_reply.started": "2021-09-03T06:07:13.175410Z"
    },
    "id": "Zezm-kWkMGC9",
    "outputId": "ab5af80d-fede-49f8-970c-ddc3e04189e5",
    "papermill": {
     "duration": 0.439509,
     "end_time": "2021-09-03T06:09:49.260713",
     "exception": false,
     "start_time": "2021-09-03T06:09:48.821204",
     "status": "completed"
    },
    "tags": []
   },
   "outputs": [
    {
     "name": "stderr",
     "output_type": "stream",
     "text": [
      "C:\\Users\\abdes\\anaconda3\\lib\\site-packages\\seaborn\\_decorators.py:36: FutureWarning: Pass the following variables as keyword args: x, y. From version 0.12, the only valid positional argument will be `data`, and passing other arguments without an explicit keyword will result in an error or misinterpretation.\n",
      "  warnings.warn(\n"
     ]
    },
    {
     "data": {
      "text/plain": [
       "<AxesSubplot:xlabel='health', ylabel='absences'>"
      ]
     },
     "execution_count": 10,
     "metadata": {},
     "output_type": "execute_result"
    },
    {
     "data": {
      "image/png": "[encoded data removed]",
      "text/plain": [
       "<Figure size 432x288 with 1 Axes>"
      ]
     },
     "metadata": {
      "needs_background": "light"
     },
     "output_type": "display_data"
    }
   ],
   "source": [
    "sns.violinplot(data['health'],data['absences'])"
   ]
  },
  {
   "cell_type": "markdown",
   "id": "b6f46c8d",
   "metadata": {
    "id": "0Tnepf4DOSBu",
    "papermill": {
     "duration": 0.04967,
     "end_time": "2021-09-03T06:09:49.358833",
     "exception": false,
     "start_time": "2021-09-03T06:09:49.309163",
     "status": "completed"
    },
    "tags": []
   },
   "source": [
    "From this we could see that the students who are absent for most of the classes is not for bad health.Because even the students with good health(5) also has more absences."
   ]
  },
  {
   "cell_type": "code",
   "execution_count": 11,
   "id": "1141b78c",
   "metadata": {
    "execution": {
     "iopub.execute_input": "2021-09-03T06:09:49.458442Z",
     "iopub.status.busy": "2021-09-03T06:09:49.457781Z",
     "iopub.status.idle": "2021-09-03T06:09:49.636945Z",
     "shell.execute_reply": "2021-09-03T06:09:49.636321Z",
     "shell.execute_reply.started": "2021-09-03T06:07:13.641855Z"
    },
    "id": "3_KRedsTO57F",
    "outputId": "9cb63b94-9151-4899-f1b2-08e15a757beb",
    "papermill": {
     "duration": 0.229858,
     "end_time": "2021-09-03T06:09:49.637089",
     "exception": false,
     "start_time": "2021-09-03T06:09:49.407231",
     "status": "completed"
    },
    "tags": []
   },
   "outputs": [
    {
     "name": "stderr",
     "output_type": "stream",
     "text": [
      "C:\\Users\\abdes\\anaconda3\\lib\\site-packages\\seaborn\\_decorators.py:36: FutureWarning: Pass the following variable as a keyword arg: x. From version 0.12, the only valid positional argument will be `data`, and passing other arguments without an explicit keyword will result in an error or misinterpretation.\n",
      "  warnings.warn(\n"
     ]
    },
    {
     "data": {
      "text/plain": [
       "<AxesSubplot:xlabel='higher', ylabel='count'>"
      ]
     },
     "execution_count": 11,
     "metadata": {},
     "output_type": "execute_result"
    },
    {
     "data": {
      "image/png": "[encoded data removed]",
      "text/plain": [
       "<Figure size 432x288 with 1 Axes>"
      ]
     },
     "metadata": {
      "needs_background": "light"
     },
     "output_type": "display_data"
    }
   ],
   "source": [
    "sns.countplot(data['higher'],hue=data['sex'])"
   ]
  },
  {
   "cell_type": "markdown",
   "id": "1c82d617",
   "metadata": {
    "id": "0kMmxl5MQEFr",
    "papermill": {
     "duration": 0.049441,
     "end_time": "2021-09-03T06:09:49.736417",
     "exception": false,
     "start_time": "2021-09-03T06:09:49.686976",
     "status": "completed"
    },
    "tags": []
   },
   "source": [
    "From this we could see that most of the students prefer to pursue Higher education.And even females preference was higher than male in pursuing higher education."
   ]
  },
  {
   "cell_type": "code",
   "execution_count": 12,
   "id": "ad6055d6",
   "metadata": {
    "execution": {
     "iopub.execute_input": "2021-09-03T06:09:49.842869Z",
     "iopub.status.busy": "2021-09-03T06:09:49.841854Z",
     "iopub.status.idle": "2021-09-03T06:09:50.033197Z",
     "shell.execute_reply": "2021-09-03T06:09:50.032635Z",
     "shell.execute_reply.started": "2021-09-03T06:07:13.837385Z"
    },
    "id": "G_8CNw66P_cL",
    "outputId": "4ec4bf4c-ebae-4137-c516-47487e04943d",
    "papermill": {
     "duration": 0.246901,
     "end_time": "2021-09-03T06:09:50.033355",
     "exception": false,
     "start_time": "2021-09-03T06:09:49.786454",
     "status": "completed"
    },
    "tags": []
   },
   "outputs": [
    {
     "name": "stderr",
     "output_type": "stream",
     "text": [
      "C:\\Users\\abdes\\anaconda3\\lib\\site-packages\\seaborn\\_decorators.py:36: FutureWarning: Pass the following variables as keyword args: x, y. From version 0.12, the only valid positional argument will be `data`, and passing other arguments without an explicit keyword will result in an error or misinterpretation.\n",
      "  warnings.warn(\n"
     ]
    },
    {
     "data": {
      "text/plain": [
       "<AxesSubplot:xlabel='internet', ylabel='G3'>"
      ]
     },
     "execution_count": 12,
     "metadata": {},
     "output_type": "execute_result"
    },
    {
     "data": {
      "image/png": "[encoded data removed]",
      "text/plain": [
       "<Figure size 432x288 with 1 Axes>"
      ]
     },
     "metadata": {
      "needs_background": "light"
     },
     "output_type": "display_data"
    }
   ],
   "source": [
    "sns.barplot(data['internet'],data['G3'])"
   ]
  },
  {
   "cell_type": "markdown",
   "id": "9d9521e7",
   "metadata": {
    "id": "wWC60hmnR9L0",
    "papermill": {
     "duration": 0.050476,
     "end_time": "2021-09-03T06:09:50.134991",
     "exception": false,
     "start_time": "2021-09-03T06:09:50.084515",
     "status": "completed"
    },
    "tags": []
   },
   "source": [
    "We could see that the students who got internet connection has scored better than the students who does'nt have internet connection."
   ]
  },
  {
   "cell_type": "code",
   "execution_count": 13,
   "id": "99194a2b",
   "metadata": {
    "execution": {
     "iopub.execute_input": "2021-09-03T06:09:50.398766Z",
     "iopub.status.busy": "2021-09-03T06:09:50.383984Z",
     "iopub.status.idle": "2021-09-03T06:09:52.256370Z",
     "shell.execute_reply": "2021-09-03T06:09:52.255803Z",
     "shell.execute_reply.started": "2021-09-03T06:07:14.144432Z"
    },
    "id": "X94P42TER066",
    "outputId": "f643c7dc-688d-4bd1-a884-e309bcd17e34",
    "papermill": {
     "duration": 2.070327,
     "end_time": "2021-09-03T06:09:52.256509",
     "exception": false,
     "start_time": "2021-09-03T06:09:50.186182",
     "status": "completed"
    },
    "tags": []
   },
   "outputs": [
    {
     "data": {
      "text/plain": [
       "Text(0.5, 0, 'Mother education')"
      ]
     },
     "execution_count": 13,
     "metadata": {},
     "output_type": "execute_result"
    },
    {
     "data": {
      "image/png": "[encoded data removed]",
      "text/plain": [
       "<Figure size 864x360 with 2 Axes>"
      ]
     },
     "metadata": {
      "needs_background": "light"
     },
     "output_type": "display_data"
    }
   ],
   "source": [
    "fig,(ax1,ax2)=plt.subplots(nrows=1,ncols=2,figsize=(12,5))\n",
    "ax1.bar(data['Fedu'],data['G3'],color='tomato')\n",
    "ax1.set_xlabel('Father education')\n",
    "ax1.set_ylabel('Grade')\n",
    "ax2.bar(data['Medu'],data['G3'],color='salmon')\n",
    "ax2.set_xlabel('Mother education')\n",
    "#(0 - none, 1 - primary education (4th grade), 2 - 5th to 9th grade, 3 - secondary education or 4 - higher education)"
   ]
  },
  {
   "cell_type": "markdown",
   "id": "76de9aaf",
   "metadata": {
    "id": "N5Ri3220VGCL",
    "papermill": {
     "duration": 0.05186,
     "end_time": "2021-09-03T06:09:52.360463",
     "exception": false,
     "start_time": "2021-09-03T06:09:52.308603",
     "status": "completed"
    },
    "tags": []
   },
   "source": [
    "From this we could see that Father's education does not affects student's grade but for the mothers who are educated their student's grade level got increased.It is because mothers teach their children.May be..."
   ]
  },
  {
   "cell_type": "code",
   "execution_count": 14,
   "id": "215908bd",
   "metadata": {
    "execution": {
     "iopub.execute_input": "2021-09-03T06:09:52.495536Z",
     "iopub.status.busy": "2021-09-03T06:09:52.481268Z",
     "iopub.status.idle": "2021-09-03T06:09:54.525656Z",
     "shell.execute_reply": "2021-09-03T06:09:54.526255Z",
     "shell.execute_reply.started": "2021-09-03T06:07:16.138389Z"
    },
    "id": "IgpSVBYsSe6W",
    "outputId": "209a26db-0da9-48d4-b333-d63fb5f96cb5",
    "papermill": {
     "duration": 2.113093,
     "end_time": "2021-09-03T06:09:54.526461",
     "exception": false,
     "start_time": "2021-09-03T06:09:52.413368",
     "status": "completed"
    },
    "tags": []
   },
   "outputs": [
    {
     "data": {
      "text/plain": [
       "Text(0.5, 0, ' number of past class failures')"
      ]
     },
     "execution_count": 14,
     "metadata": {},
     "output_type": "execute_result"
    },
    {
     "data": {
      "image/png": "[encoded data removed]",
      "text/plain": [
       "<Figure size 864x360 with 2 Axes>"
      ]
     },
     "metadata": {
      "needs_background": "light"
     },
     "output_type": "display_data"
    }
   ],
   "source": [
    "fig,(ax1,ax2)=plt.subplots(nrows=1,ncols=2,figsize=(12,5))\n",
    "ax1.bar(data['nursery'],data['G3'],color='c')\n",
    "ax1.set_xlabel('Students attended nursery school')\n",
    "ax1.set_ylabel('Grade')\n",
    "ax2.bar(data['failures'],data['G3'])\n",
    "ax2.set_xlabel(' number of past class failures')\n"
   ]
  },
  {
   "cell_type": "markdown",
   "id": "dc22d72a",
   "metadata": {
    "id": "Oax4GFdGYpZX",
    "papermill": {
     "duration": 0.052232,
     "end_time": "2021-09-03T06:09:54.631950",
     "exception": false,
     "start_time": "2021-09-03T06:09:54.579718",
     "status": "completed"
    },
    "tags": []
   },
   "source": [
    "We could see that the students who attended nursery schools have performed well because of their primary Knowledge.\n",
    "\n",
    "And also as no.of past class failures increases the grade decreases."
   ]
  },
  {
   "cell_type": "code",
   "execution_count": 15,
   "id": "73ffd32c",
   "metadata": {
    "execution": {
     "iopub.execute_input": "2021-09-03T06:09:54.782898Z",
     "iopub.status.busy": "2021-09-03T06:09:54.765977Z",
     "iopub.status.idle": "2021-09-03T06:09:56.661833Z",
     "shell.execute_reply": "2021-09-03T06:09:56.661273Z",
     "shell.execute_reply.started": "2021-09-03T06:07:18.199768Z"
    },
    "id": "9HWb62ewlrom",
    "outputId": "ffc76646-7297-4b17-bd01-82030634c725",
    "papermill": {
     "duration": 1.977542,
     "end_time": "2021-09-03T06:09:56.662005",
     "exception": false,
     "start_time": "2021-09-03T06:09:54.684463",
     "status": "completed"
    },
    "tags": []
   },
   "outputs": [
    {
     "data": {
      "text/plain": [
       "Text(0.5, 0, ' weekend alcohol consumption')"
      ]
     },
     "execution_count": 15,
     "metadata": {},
     "output_type": "execute_result"
    },
    {
     "data": {
      "image/png": "[encoded data removed]",
      "text/plain": [
       "<Figure size 864x360 with 2 Axes>"
      ]
     },
     "metadata": {
      "needs_background": "light"
     },
     "output_type": "display_data"
    }
   ],
   "source": [
    "fig,(ax1,ax2)=plt.subplots(nrows=1,ncols=2,figsize=(12,5))\n",
    "ax1.bar(data['Dalc'],data['G3'],color='palevioletred')\n",
    "ax1.set_xlabel(' workday alcohol consumption ') #(numeric: from 1 - very low to 5 - very high)\n",
    "ax1.set_ylabel('Grade')\n",
    "ax2.bar(data['Walc'],data['G3'],color='crimson')\n",
    "ax2.set_xlabel(' weekend alcohol consumption') #(numeric: from 1 - very low to 5 - very high)"
   ]
  },
  {
   "cell_type": "markdown",
   "id": "080b4957",
   "metadata": {
    "id": "leLKfhPit7eS",
    "papermill": {
     "duration": 0.055026,
     "end_time": "2021-09-03T06:09:56.771276",
     "exception": false,
     "start_time": "2021-09-03T06:09:56.716250",
     "status": "completed"
    },
    "tags": []
   },
   "source": [
    "From this graph we could see that how alcohol consumption has affected the students grade."
   ]
  },
  {
   "cell_type": "code",
   "execution_count": 16,
   "id": "cc01e04d",
   "metadata": {
    "execution": {
     "iopub.execute_input": "2021-09-03T06:09:56.886479Z",
     "iopub.status.busy": "2021-09-03T06:09:56.885491Z",
     "iopub.status.idle": "2021-09-03T06:09:56.889280Z",
     "shell.execute_reply": "2021-09-03T06:09:56.889793Z",
     "shell.execute_reply.started": "2021-09-03T06:07:20.270746Z"
    },
    "id": "Bd3KCBlkvM64",
    "outputId": "483ed29c-8cb8-4ce2-cfa8-72d661426874",
    "papermill": {
     "duration": 0.064346,
     "end_time": "2021-09-03T06:09:56.889960",
     "exception": false,
     "start_time": "2021-09-03T06:09:56.825614",
     "status": "completed"
    },
    "tags": []
   },
   "outputs": [
    {
     "data": {
      "text/plain": [
       "Index(['school', 'sex', 'age', 'address', 'famsize', 'Pstatus', 'Medu', 'Fedu',\n",
       "       'Mjob', 'Fjob', 'reason', 'guardian', 'traveltime', 'studytime',\n",
       "       'failures', 'schoolsup', 'famsup', 'paid', 'activities', 'nursery',\n",
       "       'higher', 'internet', 'romantic', 'famrel', 'freetime', 'goout', 'Dalc',\n",
       "       'Walc', 'health', 'absences', 'G1', 'G2', 'G3'],\n",
       "      dtype='object')"
      ]
     },
     "execution_count": 16,
     "metadata": {},
     "output_type": "execute_result"
    }
   ],
   "source": [
    "data.columns"
   ]
  },
  {
   "cell_type": "markdown",
   "id": "1f25cce7",
   "metadata": {
    "id": "7EPLKw6i-A5v",
    "papermill": {
     "duration": 0.054525,
     "end_time": "2021-09-03T06:09:56.999081",
     "exception": false,
     "start_time": "2021-09-03T06:09:56.944556",
     "status": "completed"
    },
    "tags": []
   },
   "source": [
    "Split the data into dependent and independent features."
   ]
  },
  {
   "cell_type": "code",
   "execution_count": 17,
   "id": "71a10529",
   "metadata": {
    "execution": {
     "iopub.execute_input": "2021-09-03T06:09:57.114769Z",
     "iopub.status.busy": "2021-09-03T06:09:57.114073Z",
     "iopub.status.idle": "2021-09-03T06:09:57.117448Z",
     "shell.execute_reply": "2021-09-03T06:09:57.116726Z",
     "shell.execute_reply.started": "2021-09-03T06:07:20.278732Z"
    },
    "id": "PqW1NCsduPA8",
    "papermill": {
     "duration": 0.064071,
     "end_time": "2021-09-03T06:09:57.117600",
     "exception": false,
     "start_time": "2021-09-03T06:09:57.053529",
     "status": "completed"
    },
    "tags": []
   },
   "outputs": [],
   "source": [
    "X=data[['G1','G2','Medu','Walc','studytime','failures','absences']]\n",
    "y=data['G3']"
   ]
  },
  {
   "cell_type": "code",
   "execution_count": 18,
   "id": "3a467fab",
   "metadata": {
    "execution": {
     "iopub.execute_input": "2021-09-03T06:09:57.243101Z",
     "iopub.status.busy": "2021-09-03T06:09:57.241956Z",
     "iopub.status.idle": "2021-09-03T06:09:57.602683Z",
     "shell.execute_reply": "2021-09-03T06:09:57.601996Z",
     "shell.execute_reply.started": "2021-09-03T06:07:20.292701Z"
    },
    "id": "TvLUDLkuw6vx",
    "papermill": {
     "duration": 0.429572,
     "end_time": "2021-09-03T06:09:57.602842",
     "exception": false,
     "start_time": "2021-09-03T06:09:57.173270",
     "status": "completed"
    },
    "tags": []
   },
   "outputs": [],
   "source": [
    "from sklearn.model_selection import train_test_split"
   ]
  },
  {
   "cell_type": "code",
   "execution_count": 44,
   "id": "b53343f2",
   "metadata": {
    "execution": {
     "iopub.execute_input": "2021-09-03T06:09:57.721699Z",
     "iopub.status.busy": "2021-09-03T06:09:57.721001Z",
     "iopub.status.idle": "2021-09-03T06:09:57.723627Z",
     "shell.execute_reply": "2021-09-03T06:09:57.724150Z",
     "shell.execute_reply.started": "2021-09-03T06:07:20.488615Z"
    },
    "id": "_kvcU5TMw-wB",
    "papermill": {
     "duration": 0.064852,
     "end_time": "2021-09-03T06:09:57.724317",
     "exception": false,
     "start_time": "2021-09-03T06:09:57.659465",
     "status": "completed"
    },
    "tags": []
   },
   "outputs": [],
   "source": [
    "X_train,X_test,y_train,y_test=train_test_split(X,y,test_size=0.15,random_state=101)"
   ]
  },
  {
   "cell_type": "markdown",
   "id": "97521693",
   "metadata": {
    "id": "r7d3w9Uq-F_J",
    "papermill": {
     "duration": 0.05441,
     "end_time": "2021-09-03T06:09:57.834472",
     "exception": false,
     "start_time": "2021-09-03T06:09:57.780062",
     "status": "completed"
    },
    "tags": []
   },
   "source": [
    "**Using KNN**"
   ]
  },
  {
   "cell_type": "code",
   "execution_count": 45,
   "id": "968a2d71",
   "metadata": {
    "execution": {
     "iopub.execute_input": "2021-09-03T06:09:57.948082Z",
     "iopub.status.busy": "2021-09-03T06:09:57.947073Z",
     "iopub.status.idle": "2021-09-03T06:09:58.084470Z",
     "shell.execute_reply": "2021-09-03T06:09:58.083781Z",
     "shell.execute_reply.started": "2021-09-03T06:07:20.498759Z"
    },
    "id": "jl6lonRFxJji",
    "papermill": {
     "duration": 0.195226,
     "end_time": "2021-09-03T06:09:58.084613",
     "exception": false,
     "start_time": "2021-09-03T06:09:57.889387",
     "status": "completed"
    },
    "tags": []
   },
   "outputs": [],
   "source": [
    "from sklearn.neighbors import KNeighborsRegressor"
   ]
  },
  {
   "cell_type": "code",
   "execution_count": 46,
   "id": "c93550d7",
   "metadata": {
    "execution": {
     "iopub.execute_input": "2021-09-03T06:09:58.199925Z",
     "iopub.status.busy": "2021-09-03T06:09:58.199233Z",
     "iopub.status.idle": "2021-09-03T06:09:58.202252Z",
     "shell.execute_reply": "2021-09-03T06:09:58.201685Z",
     "shell.execute_reply.started": "2021-09-03T06:07:20.663834Z"
    },
    "id": "hdgkt79eyH6A",
    "papermill": {
     "duration": 0.062871,
     "end_time": "2021-09-03T06:09:58.202401",
     "exception": false,
     "start_time": "2021-09-03T06:09:58.139530",
     "status": "completed"
    },
    "tags": []
   },
   "outputs": [],
   "source": [
    "knn=KNeighborsRegressor(n_jobs=-1)"
   ]
  },
  {
   "cell_type": "code",
   "execution_count": 47,
   "id": "c7d64493",
   "metadata": {
    "execution": {
     "iopub.execute_input": "2021-09-03T06:09:58.317261Z",
     "iopub.status.busy": "2021-09-03T06:09:58.316621Z",
     "iopub.status.idle": "2021-09-03T06:09:58.319832Z",
     "shell.execute_reply": "2021-09-03T06:09:58.319295Z",
     "shell.execute_reply.started": "2021-09-03T06:07:20.669363Z"
    },
    "id": "NQ_B31BW3QXQ",
    "papermill": {
     "duration": 0.062871,
     "end_time": "2021-09-03T06:09:58.319983",
     "exception": false,
     "start_time": "2021-09-03T06:09:58.257112",
     "status": "completed"
    },
    "tags": []
   },
   "outputs": [],
   "source": [
    "knn_neighbors={'n_neighbors':[1,2,3,4,5,6,7,8,9,10]}"
   ]
  },
  {
   "cell_type": "code",
   "execution_count": 48,
   "id": "dbca716a",
   "metadata": {
    "execution": {
     "iopub.execute_input": "2021-09-03T06:09:58.434650Z",
     "iopub.status.busy": "2021-09-03T06:09:58.433935Z",
     "iopub.status.idle": "2021-09-03T06:09:58.435860Z",
     "shell.execute_reply": "2021-09-03T06:09:58.436312Z",
     "shell.execute_reply.started": "2021-09-03T06:07:20.686023Z"
    },
    "id": "UzsyOYdE2SJf",
    "papermill": {
     "duration": 0.061808,
     "end_time": "2021-09-03T06:09:58.436488",
     "exception": false,
     "start_time": "2021-09-03T06:09:58.374680",
     "status": "completed"
    },
    "tags": []
   },
   "outputs": [],
   "source": [
    "from sklearn.model_selection import GridSearchCV"
   ]
  },
  {
   "cell_type": "code",
   "execution_count": 49,
   "id": "bbc47435",
   "metadata": {
    "execution": {
     "iopub.execute_input": "2021-09-03T06:09:58.551477Z",
     "iopub.status.busy": "2021-09-03T06:09:58.550826Z",
     "iopub.status.idle": "2021-09-03T06:10:01.152476Z",
     "shell.execute_reply": "2021-09-03T06:10:01.153071Z",
     "shell.execute_reply.started": "2021-09-03T06:07:20.695553Z"
    },
    "id": "5n5vaHe42aj0",
    "papermill": {
     "duration": 2.661485,
     "end_time": "2021-09-03T06:10:01.153264",
     "exception": false,
     "start_time": "2021-09-03T06:09:58.491779",
     "status": "completed"
    },
    "tags": []
   },
   "outputs": [],
   "source": [
    "classifier=GridSearchCV(knn,param_grid=knn_neighbors,cv=5,verbose=0).fit(X_train,y_train)"
   ]
  },
  {
   "cell_type": "code",
   "execution_count": 50,
   "id": "6ded3049",
   "metadata": {
    "execution": {
     "iopub.execute_input": "2021-09-03T06:10:01.271532Z",
     "iopub.status.busy": "2021-09-03T06:10:01.270585Z",
     "iopub.status.idle": "2021-09-03T06:10:01.274866Z",
     "shell.execute_reply": "2021-09-03T06:10:01.274357Z",
     "shell.execute_reply.started": "2021-09-03T06:07:23.332374Z"
    },
    "id": "mAv9McUu3022",
    "outputId": "1df7879a-693d-43fd-fd92-3fda26e983e6",
    "papermill": {
     "duration": 0.066446,
     "end_time": "2021-09-03T06:10:01.275007",
     "exception": false,
     "start_time": "2021-09-03T06:10:01.208561",
     "status": "completed"
    },
    "tags": []
   },
   "outputs": [
    {
     "data": {
      "text/plain": [
       "{'n_neighbors': 8}"
      ]
     },
     "execution_count": 50,
     "metadata": {},
     "output_type": "execute_result"
    }
   ],
   "source": [
    "classifier.best_params_"
   ]
  },
  {
   "cell_type": "code",
   "execution_count": 51,
   "id": "33bbcf5d",
   "metadata": {
    "execution": {
     "iopub.execute_input": "2021-09-03T06:10:01.390997Z",
     "iopub.status.busy": "2021-09-03T06:10:01.390283Z",
     "iopub.status.idle": "2021-09-03T06:10:01.394672Z",
     "shell.execute_reply": "2021-09-03T06:10:01.394171Z",
     "shell.execute_reply.started": "2021-09-03T06:07:23.340136Z"
    },
    "id": "2wSFB39A4hUg",
    "papermill": {
     "duration": 0.064463,
     "end_time": "2021-09-03T06:10:01.394830",
     "exception": false,
     "start_time": "2021-09-03T06:10:01.330367",
     "status": "completed"
    },
    "tags": []
   },
   "outputs": [],
   "source": [
    "best_grid=classifier.best_estimator_"
   ]
  },
  {
   "cell_type": "code",
   "execution_count": 52,
   "id": "03870ab5",
   "metadata": {
    "execution": {
     "iopub.execute_input": "2021-09-03T06:10:01.511890Z",
     "iopub.status.busy": "2021-09-03T06:10:01.511151Z",
     "iopub.status.idle": "2021-09-03T06:10:01.621396Z",
     "shell.execute_reply": "2021-09-03T06:10:01.620835Z",
     "shell.execute_reply.started": "2021-09-03T06:07:23.351189Z"
    },
    "id": "9wCBDS5vyW-I",
    "papermill": {
     "duration": 0.171273,
     "end_time": "2021-09-03T06:10:01.621547",
     "exception": false,
     "start_time": "2021-09-03T06:10:01.450274",
     "status": "completed"
    },
    "tags": []
   },
   "outputs": [],
   "source": [
    "pred=best_grid.predict(X_test)"
   ]
  },
  {
   "cell_type": "code",
   "execution_count": 53,
   "id": "0eac6e41",
   "metadata": {
    "execution": {
     "iopub.execute_input": "2021-09-03T06:10:01.737513Z",
     "iopub.status.busy": "2021-09-03T06:10:01.736797Z",
     "iopub.status.idle": "2021-09-03T06:10:01.739819Z",
     "shell.execute_reply": "2021-09-03T06:10:01.739288Z",
     "shell.execute_reply.started": "2021-09-03T06:07:23.472595Z"
    },
    "id": "bLpGR6jS7L_P",
    "papermill": {
     "duration": 0.06257,
     "end_time": "2021-09-03T06:10:01.739969",
     "exception": false,
     "start_time": "2021-09-03T06:10:01.677399",
     "status": "completed"
    },
    "tags": []
   },
   "outputs": [],
   "source": [
    "from sklearn.metrics import mean_absolute_error,mean_squared_error"
   ]
  },
  {
   "cell_type": "code",
   "execution_count": 54,
   "id": "1f6944ea",
   "metadata": {
    "execution": {
     "iopub.execute_input": "2021-09-03T06:10:01.857724Z",
     "iopub.status.busy": "2021-09-03T06:10:01.857030Z",
     "iopub.status.idle": "2021-09-03T06:10:01.862348Z",
     "shell.execute_reply": "2021-09-03T06:10:01.862916Z",
     "shell.execute_reply.started": "2021-09-03T06:07:23.479113Z"
    },
    "id": "7hXvt41Z7L14",
    "outputId": "972a9e2e-c915-451a-9d6d-c7987690904e",
    "papermill": {
     "duration": 0.06675,
     "end_time": "2021-09-03T06:10:01.863104",
     "exception": false,
     "start_time": "2021-09-03T06:10:01.796354",
     "status": "completed"
    },
    "tags": []
   },
   "outputs": [
    {
     "name": "stdout",
     "output_type": "stream",
     "text": [
      "MAE:  1.2666666666666666\n",
      "MSE:  3.259375\n"
     ]
    }
   ],
   "source": [
    "print(\"MAE: \",mean_absolute_error(y_test,pred))\n",
    "print(\"MSE: \",mean_squared_error(y_test,pred))"
   ]
  },
  {
   "cell_type": "markdown",
   "id": "f66d28ab",
   "metadata": {
    "id": "2y3WZ3HH-Mdw",
    "papermill": {
     "duration": 0.055763,
     "end_time": "2021-09-03T06:10:01.974608",
     "exception": false,
     "start_time": "2021-09-03T06:10:01.918845",
     "status": "completed"
    },
    "tags": []
   },
   "source": [
    "**Using Linear Regression**"
   ]
  },
  {
   "cell_type": "code",
   "execution_count": 55,
   "id": "507fea8e",
   "metadata": {
    "execution": {
     "iopub.execute_input": "2021-09-03T06:10:02.091988Z",
     "iopub.status.busy": "2021-09-03T06:10:02.090957Z",
     "iopub.status.idle": "2021-09-03T06:10:02.094272Z",
     "shell.execute_reply": "2021-09-03T06:10:02.093599Z",
     "shell.execute_reply.started": "2021-09-03T06:07:23.495275Z"
    },
    "id": "Z0aycNK_7ilv",
    "papermill": {
     "duration": 0.063856,
     "end_time": "2021-09-03T06:10:02.094415",
     "exception": false,
     "start_time": "2021-09-03T06:10:02.030559",
     "status": "completed"
    },
    "tags": []
   },
   "outputs": [],
   "source": [
    "from sklearn.linear_model  import LinearRegression "
   ]
  },
  {
   "cell_type": "code",
   "execution_count": 56,
   "id": "49a5bb55",
   "metadata": {
    "execution": {
     "iopub.execute_input": "2021-09-03T06:10:02.210411Z",
     "iopub.status.busy": "2021-09-03T06:10:02.209376Z",
     "iopub.status.idle": "2021-09-03T06:10:02.212873Z",
     "shell.execute_reply": "2021-09-03T06:10:02.212149Z",
     "shell.execute_reply.started": "2021-09-03T06:07:23.501923Z"
    },
    "id": "lDhiiVBx-USS",
    "papermill": {
     "duration": 0.06324,
     "end_time": "2021-09-03T06:10:02.213049",
     "exception": false,
     "start_time": "2021-09-03T06:10:02.149809",
     "status": "completed"
    },
    "tags": []
   },
   "outputs": [],
   "source": [
    "lr=LinearRegression()"
   ]
  },
  {
   "cell_type": "code",
   "execution_count": 57,
   "id": "549d920d",
   "metadata": {
    "execution": {
     "iopub.execute_input": "2021-09-03T06:10:02.337560Z",
     "iopub.status.busy": "2021-09-03T06:10:02.336923Z",
     "iopub.status.idle": "2021-09-03T06:10:02.374302Z",
     "shell.execute_reply": "2021-09-03T06:10:02.374801Z",
     "shell.execute_reply.started": "2021-09-03T06:07:23.512687Z"
    },
    "id": "b3Ztdd56-a77",
    "papermill": {
     "duration": 0.104987,
     "end_time": "2021-09-03T06:10:02.374989",
     "exception": false,
     "start_time": "2021-09-03T06:10:02.270002",
     "status": "completed"
    },
    "tags": []
   },
   "outputs": [],
   "source": [
    "model_1=lr.fit(X_train,y_train)"
   ]
  },
  {
   "cell_type": "code",
   "execution_count": 58,
   "id": "ff6d8244",
   "metadata": {
    "execution": {
     "iopub.execute_input": "2021-09-03T06:10:02.491670Z",
     "iopub.status.busy": "2021-09-03T06:10:02.490643Z",
     "iopub.status.idle": "2021-09-03T06:10:02.493545Z",
     "shell.execute_reply": "2021-09-03T06:10:02.492924Z",
     "shell.execute_reply.started": "2021-09-03T06:07:23.566252Z"
    },
    "id": "0IW7cU8K-fsY",
    "papermill": {
     "duration": 0.064008,
     "end_time": "2021-09-03T06:10:02.493683",
     "exception": false,
     "start_time": "2021-09-03T06:10:02.429675",
     "status": "completed"
    },
    "tags": []
   },
   "outputs": [],
   "source": [
    "pred_1=model_1.predict(X_test)"
   ]
  },
  {
   "cell_type": "code",
   "execution_count": 59,
   "id": "462170fd",
   "metadata": {
    "execution": {
     "iopub.execute_input": "2021-09-03T06:10:02.611992Z",
     "iopub.status.busy": "2021-09-03T06:10:02.611146Z",
     "iopub.status.idle": "2021-09-03T06:10:02.615832Z",
     "shell.execute_reply": "2021-09-03T06:10:02.615322Z",
     "shell.execute_reply.started": "2021-09-03T06:07:23.574878Z"
    },
    "id": "L3yHjPZo-jbt",
    "outputId": "7b445528-4e1c-4469-c62e-5c500f965825",
    "papermill": {
     "duration": 0.066293,
     "end_time": "2021-09-03T06:10:02.615970",
     "exception": false,
     "start_time": "2021-09-03T06:10:02.549677",
     "status": "completed"
    },
    "tags": []
   },
   "outputs": [
    {
     "name": "stdout",
     "output_type": "stream",
     "text": [
      "MAE:  1.2033076517640835\n",
      "MSE:  3.183948857269226\n"
     ]
    }
   ],
   "source": [
    "print(\"MAE: \",mean_absolute_error(y_test,pred_1))\n",
    "print(\"MSE: \",mean_squared_error(y_test,pred_1))"
   ]
  },
  {
   "cell_type": "code",
   "execution_count": 60,
   "id": "6024d5df",
   "metadata": {
    "execution": {
     "iopub.execute_input": "2021-09-03T06:10:02.730836Z",
     "iopub.status.busy": "2021-09-03T06:10:02.729907Z",
     "iopub.status.idle": "2021-09-03T06:10:02.738600Z",
     "shell.execute_reply": "2021-09-03T06:10:02.738095Z",
     "shell.execute_reply.started": "2021-09-03T06:07:23.590763Z"
    },
    "id": "JYX1Vj0Z-n5E",
    "outputId": "68052fab-f031-466a-fba4-9ebacb6759d0",
    "papermill": {
     "duration": 0.067062,
     "end_time": "2021-09-03T06:10:02.738731",
     "exception": false,
     "start_time": "2021-09-03T06:10:02.671669",
     "status": "completed"
    },
    "tags": []
   },
   "outputs": [
    {
     "name": "stdout",
     "output_type": "stream",
     "text": [
      "Accuracy:  0.8543851836199856\n"
     ]
    }
   ],
   "source": [
    "accuracy = lr.score(X_test, y_test)\n",
    "print('Accuracy: ',accuracy)"
   ]
  }
 ],
 "metadata": {
  "kernelspec": {
   "display_name": "Python 3",
   "language": "python",
   "name": "python3"
  },
  "language_info": {
   "codemirror_mode": {
    "name": "ipython",
    "version": 3
   },
   "file_extension": ".py",
   "mimetype": "text/x-python",
   "name": "python",
   "nbconvert_exporter": "python",
   "pygments_lexer": "ipython3",
   "version": "3.8.8"
  },
  "papermill": {
   "default_parameters": {},
   "duration": 27.770668,
   "end_time": "2021-09-03T06:10:04.656361",
   "environment_variables": {},
   "exception": null,
   "input_path": "__notebook__.ipynb",
   "output_path": "__notebook__.ipynb",
   "parameters": {},
   "start_time": "2021-09-03T06:09:36.885693",
   "version": "2.3.3"
  }
 },
 "nbformat": 4,
 "nbformat_minor": 5
}
